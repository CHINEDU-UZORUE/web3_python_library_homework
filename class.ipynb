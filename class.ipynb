{
 "cells": [
  {
   "cell_type": "markdown",
   "id": "550fd344",
   "metadata": {},
   "source": [
    "## Imports"
   ]
  },
  {
   "cell_type": "code",
   "execution_count": null,
   "id": "3f460a5e",
   "metadata": {},
   "outputs": [],
   "source": [
    "! pip install web3 dotenv pandas matplotlib"
   ]
  },
  {
   "cell_type": "code",
   "execution_count": 5,
   "id": "a52e1660",
   "metadata": {},
   "outputs": [],
   "source": [
    "# Importing the Web3 object from web3.py\n",
    "# dotenv is imported for loading the Gateway environment variable from .env file\n",
    "# Remember that the Gateway we created has an API key in it (unique identifier for the API caller)\n",
    "\n",
    "from web3 import Web3\n",
    "import pandas as pd\n",
    "from dotenv import load_dotenv\n",
    "import os\n",
    "\n",
    "# Loading environment variables from .env file\n",
    "\n",
    "load_dotenv()\n",
    "GATEWAY = os.getenv(\"GATEWAY_URL\")"
   ]
  },
  {
   "cell_type": "markdown",
   "id": "7d6de13f",
   "metadata": {},
   "source": [
    "### Validate Gateway URL"
   ]
  },
  {
   "cell_type": "code",
   "execution_count": 6,
   "id": "250e2b6f",
   "metadata": {},
   "outputs": [
    {
     "name": "stdout",
     "output_type": "stream",
     "text": [
      "GATEWAY imported as https://mainnet.infura.io/v3/*****************************\n"
     ]
    }
   ],
   "source": [
    "def mask_api_key(api_key, visible_chars=32):\n",
    "     return api_key[:-visible_chars]+ \"*\" * (len(api_key) - visible_chars) \n",
    "\n",
    "print(f'GATEWAY imported as {mask_api_key(GATEWAY)}')"
   ]
  },
  {
   "cell_type": "markdown",
   "id": "e5cc45b5",
   "metadata": {},
   "source": [
    "## Connecting to Blockchain"
   ]
  },
  {
   "cell_type": "code",
   "execution_count": 8,
   "id": "62f62005",
   "metadata": {},
   "outputs": [
    {
     "name": "stdout",
     "output_type": "stream",
     "text": [
      "Is the connection successful?: True\n"
     ]
    }
   ],
   "source": [
    "w3 = Web3(Web3.HTTPProvider(GATEWAY))\n",
    "print(f'Is the connection successful?: {w3.is_connected()}') # Should return True"
   ]
  },
  {
   "cell_type": "markdown",
   "id": "59c14d22",
   "metadata": {},
   "source": [
    "## Turn address to checksum"
   ]
  },
  {
   "cell_type": "code",
   "execution_count": 9,
   "id": "cb317336",
   "metadata": {},
   "outputs": [],
   "source": [
    "def turn_to_checksum(address: str) -> str:\n",
    "    \"\"\"Convert an Ethereum address to its checksum format\"\"\"\n",
    "    if not Web3.is_checksum_address(address): # check if already checksum\n",
    "        return Web3.to_checksum_address(address) # if not we return checksum address\n",
    "    return address\n",
    "\n",
    "ACCOUNT_ADDRESS_RAW = \"0x38979DFdB5d8FD76FAD4E797c4660e20015C6a84\"\n",
    "ACCOUNT_ADDRESS = turn_to_checksum(ACCOUNT_ADDRESS_RAW)"
   ]
  },
  {
   "cell_type": "markdown",
   "id": "8bd6910b",
   "metadata": {},
   "source": [
    "## Reading basic transaction data"
   ]
  },
  {
   "cell_type": "code",
   "execution_count": 10,
   "id": "8d401c12",
   "metadata": {},
   "outputs": [
    {
     "data": {
      "text/plain": [
       "5"
      ]
     },
     "execution_count": 10,
     "metadata": {},
     "output_type": "execute_result"
    }
   ],
   "source": [
    "# Get number of transactions for a given address\n",
    "\n",
    "def get_transaction_count(address: str) -> int:\n",
    "    return w3.eth.get_transaction_count(address) # use the get_transaction_count method and pass through the address\n",
    "\n",
    "get_transaction_count(ACCOUNT_ADDRESS)"
   ]
  },
  {
   "cell_type": "code",
   "execution_count": 11,
   "id": "4cd08222",
   "metadata": {},
   "outputs": [
    {
     "name": "stdout",
     "output_type": "stream",
     "text": [
      "Transaction Details: AttributeDict({'blockHash': HexBytes('0xf20aa677f9bad06b472f2734570992e6b74e07d0c07e5fba516b8924af5da024'), 'blockNumber': 22227671, 'from': '0x38979DFdB5d8FD76FAD4E797c4660e20015C6a84', 'gas': 21000, 'gasPrice': 951249593, 'maxFeePerGas': 1147752425, 'maxPriorityFeePerGas': 512247655, 'hash': HexBytes('0x50f6678c427392209a6a12dfa9bfd258503526ba4e4e2d80b27cf4b7579696a6'), 'input': HexBytes('0x'), 'nonce': 2, 'to': '0x2083b0413869f7b5b9e0eA27d20CB6dD3535f525', 'transactionIndex': 53, 'value': 4784490000000000, 'type': 2, 'accessList': [], 'chainId': 1, 'v': 0, 'r': HexBytes('0xab6dc09a1d9d85b6127af452f7f42b186d81240751d9022f9b9b198f04ee3139'), 's': HexBytes('0x24df5499c17941337a4d11f1162ac2db049ef467a9418692d21b832ec163a4dd'), 'yParity': 0})\n",
      "From: 0x38979DFdB5d8FD76FAD4E797c4660e20015C6a84\n",
      "To: 0x2083b0413869f7b5b9e0eA27d20CB6dD3535f525\n",
      "Value (ETH): 0.00478449\n",
      "Gas Used: 21000\n"
     ]
    }
   ],
   "source": [
    "# Fetch details for a transaction using transaction hash\n",
    "\n",
    "tx_hash = \"0x50f6678c427392209a6a12dfa9bfd258503526ba4e4e2d80b27cf4b7579696a6\"\n",
    "transaction = w3.eth.get_transaction(tx_hash)\n",
    "print(f'Transaction Details: {transaction}')\n",
    "print(\"From:\", transaction['from']) # Sender address\n",
    "print(\"To:\", transaction['to']) # Recipient address\n",
    "print(\"Value (ETH):\", w3.from_wei(transaction['value'], 'ether')) # Transaction value in ETH\n",
    "print(\"Gas Used:\", transaction['gas']) # Gas used for the transaction"
   ]
  },
  {
   "cell_type": "code",
   "execution_count": 12,
   "id": "34499eba",
   "metadata": {},
   "outputs": [
    {
     "data": {
      "text/plain": [
       "{'from': '0x2083b0413869f7b5b9e0eA27d20CB6dD3535f525',\n",
       " 'to': '0x38979DFdB5d8FD76FAD4E797c4660e20015C6a84',\n",
       " 'value (ETH)': Decimal('0.01'),\n",
       " 'gas used': 21000}"
      ]
     },
     "execution_count": 12,
     "metadata": {},
     "output_type": "execute_result"
    }
   ],
   "source": [
    "def get_tx_details(tx_hash: str) -> dict:\n",
    "    \"\"\"Fetches transaction details for a given transaction hash.\"\"\"\n",
    "    try:\n",
    "        transaction = w3.eth.get_transaction(tx_hash)\n",
    "    except Exception as e:\n",
    "        print(f\"Error fetching transaction details: {e}\")\n",
    "        return {}\n",
    "    \n",
    "    return {\n",
    "        \"from\": transaction['from'],\n",
    "        \"to\": transaction['to'],\n",
    "        \"value (ETH)\": w3.from_wei(transaction['value'], 'ether'),\n",
    "        \"gas used\": transaction['gas']\n",
    "    }\n",
    "    \n",
    "get_tx_details(\"0x34fcc447050e420b0a397d0de36f699e27a86ef0f5f28a6932c0f9b8247a51c4\")"
   ]
  },
  {
   "cell_type": "markdown",
   "id": "ce407f60",
   "metadata": {},
   "source": [
    "## Exploring block data"
   ]
  },
  {
   "cell_type": "code",
   "execution_count": 13,
   "id": "4fba0e7a",
   "metadata": {},
   "outputs": [
    {
     "name": "stdout",
     "output_type": "stream",
     "text": [
      "Block Number: 23238627\n",
      "Block Hash: 1e596f0421fa11287b174c2ec9dc901a76810b748c512395707d12232a1ce3f0\n",
      "Transactions in Block: 261\n",
      "baseFeePerGas: 370906209\n"
     ]
    }
   ],
   "source": [
    "# Checking the latest block number\n",
    "\n",
    "latest_block = w3.eth.get_block('latest')  \n",
    "\n",
    "print(\"Block Number:\", latest_block['number'])  \n",
    "print(\"Block Hash:\", latest_block['hash'].hex())  \n",
    "print(\"Transactions in Block:\", len(latest_block['transactions']))\n",
    "print(\"baseFeePerGas:\", latest_block['baseFeePerGas'])"
   ]
  },
  {
   "cell_type": "markdown",
   "id": "9adf1ed9",
   "metadata": {},
   "source": [
    "## Token Balance"
   ]
  },
  {
   "cell_type": "code",
   "execution_count": 14,
   "id": "07d8c95a",
   "metadata": {},
   "outputs": [
    {
     "name": "stdout",
     "output_type": "stream",
     "text": [
      "Ether Balance for 0x38979DFdB5d8FD76FAD4E797c4660e20015C6a84: 0.003843781825617197 ETH\n"
     ]
    }
   ],
   "source": [
    "# Ether Balance\n",
    "\n",
    "raw_balance = w3.eth.get_balance(ACCOUNT_ADDRESS)\n",
    "normalized_balance = w3.from_wei(raw_balance, 'ether')\n",
    "\n",
    "print(f\"Ether Balance for {ACCOUNT_ADDRESS}: {normalized_balance} ETH\")"
   ]
  },
  {
   "cell_type": "code",
   "execution_count": 15,
   "id": "77d409e0",
   "metadata": {},
   "outputs": [
    {
     "name": "stdout",
     "output_type": "stream",
     "text": [
      "USDC Balance for 0xe1940f578743367F38D3f25c2D2d32D6636929B6: 1,399,999,999 USDC\n"
     ]
    }
   ],
   "source": [
    "# Token Balance\n",
    "\n",
    "BINANCE_ACCOUNT_ADDRESS_RAW = \"0xe1940f578743367F38D3f25c2D2d32D6636929B6\"\n",
    "BINANCE_ACCOUNT_ADDRESS = turn_to_checksum(BINANCE_ACCOUNT_ADDRESS_RAW)\n",
    "\n",
    "USDC_ADDRESS = \"0xA0b86991c6218b36c1d19D4a2e9Eb0cE3606eB48\" # Ethereum USDC Address\n",
    "ERC20_ABI = [\n",
    "    {\n",
    "        \"constant\": True,\n",
    "        \"inputs\": [{\"name\": \"_owner\", \"type\": \"address\"}],\n",
    "        \"name\": \"balanceOf\",\n",
    "        \"outputs\": [{\"name\": \"balance\", \"type\": \"uint256\"}],\n",
    "        \"payable\": False,\n",
    "        \"stateMutability\": \"view\",\n",
    "        \"type\": \"function\"\n",
    "    },\n",
    "    {\n",
    "        \"constant\": True,\n",
    "        \"inputs\": [],\n",
    "        \"name\": \"totalSupply\",\n",
    "        \"outputs\": [\n",
    "            {\n",
    "                \"name\": \"\",\n",
    "                \"type\": \"uint256\"\n",
    "            }\n",
    "        ],\n",
    "        \"payable\": False,\n",
    "        \"stateMutability\": \"view\",\n",
    "        \"type\": \"function\"\n",
    "    },\n",
    "    {\n",
    "        \"constant\": True,\n",
    "        \"inputs\": [],\n",
    "        \"name\": \"decimals\",\n",
    "        \"outputs\": [\n",
    "            {\n",
    "                \"name\": \"\",\n",
    "                \"type\": \"uint8\"\n",
    "            }\n",
    "        ],\n",
    "        \"payable\": False,\n",
    "        \"stateMutability\": \"view\",\n",
    "        \"type\": \"function\"\n",
    "    },\n",
    "]\n",
    "\n",
    "usdc_contract = w3.eth.contract(address=USDC_ADDRESS, abi=ERC20_ABI) # Create contract client to interact with the contract functions\n",
    "decimals = usdc_contract.functions.decimals().call()\n",
    "raw_balance = usdc_contract.functions.balanceOf(BINANCE_ACCOUNT_ADDRESS).call() # pass address to balanceOf function\n",
    "normalized_balance = raw_balance / 10 ** decimals\n",
    "\n",
    "print(f\"USDC Balance for {BINANCE_ACCOUNT_ADDRESS}: {normalized_balance:,.0f} USDC\")"
   ]
  },
  {
   "cell_type": "code",
   "execution_count": 16,
   "id": "aa89f40f",
   "metadata": {},
   "outputs": [
    {
     "data": {
      "text/plain": [
       "{'ether': 0,\n",
       " 'tokens': {'0xA0b86991c6218b36c1d19D4a2e9Eb0cE3606eB48': 1399999999.009477}}"
      ]
     },
     "execution_count": 16,
     "metadata": {},
     "output_type": "execute_result"
    }
   ],
   "source": [
    "def get_balances(address: str, tokens: list) -> dict:\n",
    "    \"\"\"Gets Ether and token balances for a given address.\"\"\"\n",
    "    raw_ether_balance = w3.eth.get_balance(address)\n",
    "    normalized_ether_balance = w3.from_wei(raw_ether_balance, 'ether')\n",
    "\n",
    "    if tokens:\n",
    "        balances = {}\n",
    "        for token in tokens:\n",
    "            token_contract = w3.eth.contract(address=token, abi=ERC20_ABI)\n",
    "            raw_balance = token_contract.functions.balanceOf(address).call()\n",
    "            decimals = token_contract.functions.decimals().call()\n",
    "            normalized_balance = raw_balance / 10 ** decimals\n",
    "            balances[token] = normalized_balance\n",
    "        return {\"ether\": normalized_ether_balance, \"tokens\": balances}\n",
    "    return {\"ether\": normalized_ether_balance}\n",
    "\n",
    "get_balances(BINANCE_ACCOUNT_ADDRESS, [USDC_ADDRESS])"
   ]
  },
  {
   "cell_type": "markdown",
   "id": "8dddf71c",
   "metadata": {},
   "source": [
    "## Filtering Transactions by Address"
   ]
  },
  {
   "cell_type": "code",
   "execution_count": 17,
   "id": "625c02a2",
   "metadata": {},
   "outputs": [
    {
     "data": {
      "text/plain": [
       "'0xddf252ad1be2c89b69c2b068fc378daa952ba7f163c4a11628f55a4df523b3ef'"
      ]
     },
     "execution_count": 17,
     "metadata": {},
     "output_type": "execute_result"
    }
   ],
   "source": [
    "# First we identify topic0; unique hash for ERC20 transfer events\n",
    "\n",
    "erc20_transfer_topic = w3.keccak(text=\"Transfer(address,address,uint256)\").hex() # function name and arguments as a hex string\n",
    "if '0x' not in erc20_transfer_topic:\n",
    "    erc20_transfer_topic = '0x' + erc20_transfer_topic\n",
    "erc20_transfer_topic"
   ]
  },
  {
   "cell_type": "code",
   "execution_count": 18,
   "id": "770c95ae",
   "metadata": {},
   "outputs": [
    {
     "name": "stdout",
     "output_type": "stream",
     "text": [
      "1 token transfers found\n",
      "logs: [AttributeDict({'removed': False, 'logIndex': 366, 'transactionIndex': 130, 'transactionHash': HexBytes('0xe5f7a61bc1c31a9442a02854f5b941f390b66a0e46a5f48cc490e791f1480e2d'), 'blockHash': HexBytes('0x846ba7b32e8993d9011b3aa928eaca039a495b5b05b7c71e9fc5e77a96f947c2'), 'blockNumber': 22227642, 'address': '0xA0b86991c6218b36c1d19D4a2e9Eb0cE3606eB48', 'data': HexBytes('0x00000000000000000000000000000000000000000000000000000000000f416e'), 'topics': [HexBytes('0xddf252ad1be2c89b69c2b068fc378daa952ba7f163c4a11628f55a4df523b3ef'), HexBytes('0x0000000000000000000000002083b0413869f7b5b9e0ea27d20cb6dd3535f525'), HexBytes('0x00000000000000000000000038979dfdb5d8fd76fad4e797c4660e20015c6a84')]})]\n"
     ]
    }
   ],
   "source": [
    "def address_to_topic(address: str) -> str:\n",
    "    \"\"\"Convert an Ethereum address into a 32-byte topic string\"\"\"\n",
    "    return Web3.to_hex(Web3.to_bytes(hexstr=address).rjust(32, b'\\0')) #Ethereum addresses are only 20 bytes long, so we pad with zeros for the API\n",
    "\n",
    "logs = w3.eth.get_logs({\n",
    "    \"fromBlock\": \"earliest\",\n",
    "    \"toBlock\": \"latest\",\n",
    "    \"address\": USDC_ADDRESS,\n",
    "    \"topics\": [erc20_transfer_topic, None, address_to_topic(ACCOUNT_ADDRESS)] # Topic 0 is the Transfer event signature, Topic 1 is the sender (null for all), Topic 2 is the recipient\n",
    "})\n",
    "\n",
    "print(len(logs), \"token transfers found\")\n",
    "print(f'logs: {logs}')"
   ]
  },
  {
   "cell_type": "code",
   "execution_count": 19,
   "id": "1a4276b9",
   "metadata": {},
   "outputs": [
    {
     "name": "stdout",
     "output_type": "stream",
     "text": [
      "{'block': 22227642, 'timestamp': 1744157015, 'tx': 'e5f7a61bc1c31a9442a02854f5b941f390b66a0e46a5f48cc490e791f1480e2d', 'from': '0x2083b0413869f7b5b9e0eA27d20CB6dD3535f525', 'to': '0x38979DFdB5d8FD76FAD4E797c4660e20015C6a84', 'value': 0.99979}\n"
     ]
    }
   ],
   "source": [
    "# Decode logs into readable transfers\n",
    "\n",
    "transfers = []\n",
    "for log in logs:\n",
    "    from_addr = \"0x\" + log[\"topics\"][1].hex()[-40:]  # last 20 bytes as ethereum address is only 20 bytes long\n",
    "    to_addr   = \"0x\" + log[\"topics\"][2].hex()[-40:]\n",
    "\n",
    "    # handle both hexstring or bytes case\n",
    "    if isinstance(log[\"data\"], bytes):\n",
    "        value = int.from_bytes(log[\"data\"], byteorder=\"big\")\n",
    "    else:\n",
    "        value = int(log[\"data\"], 16) # interpret this string as base-16 (hexadecimal)\n",
    "\n",
    "    # We can get the timestamp by looking up the block\n",
    "    block = w3.eth.get_block(log[\"blockNumber\"]) \n",
    "    timestamp = block.timestamp\n",
    "\n",
    "    # We append the transfer details to transfers list\n",
    "    transfers.append({\n",
    "        \"block\": block.number,\n",
    "        \"timestamp\": timestamp,\n",
    "        \"tx\": log[\"transactionHash\"].hex(),\n",
    "        \"from\": Web3.to_checksum_address(from_addr),\n",
    "        \"to\": Web3.to_checksum_address(to_addr),\n",
    "        \"value\": (value / 10 ** decimals) # normalize value using the decimals\n",
    "    })\n",
    "\n",
    "for t in transfers[:5]:  # print first 5\n",
    "    print(t)"
   ]
  },
  {
   "cell_type": "code",
   "execution_count": 20,
   "id": "7716cf26",
   "metadata": {},
   "outputs": [],
   "source": [
    "def get_token_transfers(address: str, token_address: str, from_block: str = \"earliest\", to_block: str = \"latest\") -> list:\n",
    "    \"\"\"Retreives token transfers for a given address (tokens sent to the recipient)\"\"\"\n",
    "    logs = w3.eth.get_logs({\n",
    "        \"fromBlock\": from_block,\n",
    "        \"toBlock\": to_block,\n",
    "        \"address\": token_address,\n",
    "        \"topics\": [erc20_transfer_topic, None, address_to_topic(address)]\n",
    "    })\n",
    "\n",
    "    token_contract = w3.eth.contract(address=token_address, abi=ERC20_ABI)\n",
    "    decimals = token_contract.functions.decimals().call()\n",
    "\n",
    "    # Decode logs into readable transfers\n",
    "    transfers = []\n",
    "    for log in logs:\n",
    "        from_addr = \"0x\" + log[\"topics\"][1].hex()[-40:]  # last 20 bytes\n",
    "        to_addr   = \"0x\" + log[\"topics\"][2].hex()[-40:]\n",
    "        hash      = \"0x\" + log[\"transactionHash\"].hex()\n",
    "\n",
    "        # handle both hexstring or bytes case\n",
    "        if isinstance(log[\"data\"], bytes):\n",
    "            value = int.from_bytes(log[\"data\"], byteorder=\"big\")\n",
    "        else:\n",
    "            value = int(log[\"data\"], 16) # interpret this string as base-16 (hexadecimal)\n",
    "\n",
    "        block = w3.eth.get_block(log[\"blockNumber\"])\n",
    "        timestamp = block.timestamp\n",
    "\n",
    "        transfers.append({\n",
    "            \"block\": block.number,\n",
    "            \"timestamp\": str(pd.to_datetime(timestamp, unit='s')),\n",
    "            \"tx\": hash,\n",
    "            \"from\": Web3.to_checksum_address(from_addr),\n",
    "            \"to\": Web3.to_checksum_address(to_addr),\n",
    "            \"value\": (value / 10 ** decimals) # normalize value using the decimals\n",
    "        })\n",
    "\n",
    "    return transfers\n",
    "\n",
    "transfers = get_token_transfers(BINANCE_ACCOUNT_ADDRESS, USDC_ADDRESS)"
   ]
  },
  {
   "cell_type": "markdown",
   "id": "a78b3424",
   "metadata": {},
   "source": [
    "## Basic data analysis"
   ]
  },
  {
   "cell_type": "code",
   "execution_count": 21,
   "id": "0d0e8bad",
   "metadata": {},
   "outputs": [
    {
     "data": {
      "text/plain": [
       "<Axes: xlabel='timestamp'>"
      ]
     },
     "execution_count": 21,
     "metadata": {},
     "output_type": "execute_result"
    },
    {
     "data": {
      "image/png": "[encoded data removed]",
      "text/plain": [
       "<Figure size 640x480 with 1 Axes>"
      ]
     },
     "metadata": {},
     "output_type": "display_data"
    }
   ],
   "source": [
    "transfers_df = pd.DataFrame(transfers)\n",
    "transfers_df.set_index('timestamp', inplace=True)\n",
    "transfers_df.index = pd.to_datetime(transfers_df.index)\n",
    "transfers_df[['value']].plot(kind='bar')"
   ]
  },
  {
   "cell_type": "markdown",
   "id": "33a920a5",
   "metadata": {},
   "source": [
    "## ENS API"
   ]
  },
  {
   "cell_type": "code",
   "execution_count": 22,
   "id": "eeebc20c",
   "metadata": {},
   "outputs": [
    {
     "name": "stdout",
     "output_type": "stream",
     "text": [
      "domain: brandynham.eth\n",
      "address: 0x2083b0413869f7b5b9e0eA27d20CB6dD3535f525\n",
      "address: 0x6Cf624AcA916066340F0347375c5E87A8C250D38\n",
      "domain: lll111.eth\n"
     ]
    }
   ],
   "source": [
    "from ens import ENS # automatically included in web3.py\n",
    "\n",
    "ns = ENS.from_web3(w3) # client for ENS API\n",
    "\n",
    "# lookup by domain\n",
    "domain = \"brandynham.eth\"\n",
    "resolved = ns.address(domain) #pass through the domain to the address method\n",
    "print(f'domain: {domain}')\n",
    "print(f'address: {resolved}')\n",
    "\n",
    "# lookup by address\n",
    "test_address_raw = \"0x6cf624aca916066340f0347375c5e87a8c250d38\"\n",
    "test_address = turn_to_checksum(test_address_raw)\n",
    "domain = ns.name(test_address) # Pass through address to the name method\n",
    "print(f'address: {test_address}')\n",
    "print(f'domain: {domain}')"
   ]
  },
  {
   "cell_type": "markdown",
   "id": "d2d6fc9f",
   "metadata": {},
   "source": [
    "## Homework"
   ]
  },
  {
   "cell_type": "markdown",
   "id": "8ddc00b6",
   "metadata": {},
   "source": [
    "1. Write a function that:\n",
    "    - Takes a block number as input\n",
    "    - Returns the timestamp of when it was mined (human-readable)\n",
    "    - Hint: We did this in the ERC20 transfer event analysis section\n",
    "2. Calculate average gas price of last 10 blocks\n",
    "3. Create a simple whale detector function\n",
    "    - The function should:\n",
    "        - Check if a wallet has more than 100 ETH\n",
    "        - Check if a wallet has more than 1M USDC\n",
    "        - If either is True, the wallet should be tagged a \"Whale\" (can simply print \"Whale\")\n",
    "        - Optionally, can add more categories (goldfish, dolphin, small whale, large whale, etc.)\n",
    "    - Test the function with your address or addresses you find on [etherscan.io](https://etherscan.io/token/0xa0b86991c6218b36c1d19d4a2e9eb0ce3606eb48#balances)\n",
    "    - Bonus:\n",
    "        - Create a function that takes in several addresses, checks its category, and appends the address and tag to a dictionary (Address is key, tag is the value)"
   ]
  },
  {
   "cell_type": "code",
   "execution_count": 23,
   "id": "87ebf5ae",
   "metadata": {},
   "outputs": [
    {
     "name": "stdout",
     "output_type": "stream",
     "text": [
      "fetching block 23238632\n",
      "fetching block 23238631\n",
      "fetching block 23238630\n",
      "fetching block 23238629\n",
      "fetching block 23238628\n",
      "fetching block 23238627\n",
      "fetching block 23238626\n",
      "fetching block 23238625\n",
      "fetching block 23238624\n",
      "fetching block 23238623\n"
     ]
    }
   ],
   "source": [
    "# Problem 2\n",
    "\n",
    "N = 10\n",
    "\n",
    "# Get the latest block number\n",
    "latest_block = w3.eth.block_number\n",
    "\n",
    "base_fees = []\n",
    "\n",
    "for i in range(latest_block, latest_block - N, -1):\n",
    "    print(f'fetching block {i}') \n",
    "    block = w3.eth.get_block(i)\n",
    "    # You need to fill in the rest"
   ]
  },
  {
   "cell_type": "code",
   "execution_count": null,
   "id": "55de7c25",
   "metadata": {},
   "outputs": [],
   "source": []
  }
 ],
 "metadata": {
  "kernelspec": {
   "display_name": "base",
   "language": "python",
   "name": "python3"
  },
  "language_info": {
   "codemirror_mode": {
    "name": "ipython",
    "version": 3
   },
   "file_extension": ".py",
   "mimetype": "text/x-python",
   "name": "python",
   "nbconvert_exporter": "python",
   "pygments_lexer": "ipython3",
   "version": "3.11.7"
  }
 },
 "nbformat": 4,
 "nbformat_minor": 5
}
